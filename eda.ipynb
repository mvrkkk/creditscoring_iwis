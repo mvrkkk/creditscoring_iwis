{
 "cells": [
  {
   "cell_type": "markdown",
   "metadata": {},
   "source": [
    "# IWIS - Test task\n",
    "\n",
    "## Description:\n",
    "- Given a train and test datastes - build a binary classififer which will predict whether or not a client's loan will be aproved or declined\n",
    "\n",
    "- Data:\n",
    "    - 9 anonimized features\n",
    "    - Binary target - {1:loan declined, 0: loan aproved}\n",
    "    \n",
    "- Metrics:\n",
    "    - ROC_AUC\n",
    "    - Precision/Recall/F1"
   ]
  },
  {
   "cell_type": "code",
   "execution_count": null,
   "metadata": {},
   "outputs": [],
   "source": [
    "# imports\n",
    "import pandas as pd\n",
    "import numpy as np\n",
    "import matplotlib.pyplot as plt\n",
    "import seaborn as sns\n",
    "\n",
    "from warnings import filterwarnings\n",
    "\n",
    "# set options\n",
    "pd.options.display.max_rows = 150\n",
    "pd.options.display.max_columns = None\n",
    "plt.style.use('classic')\n",
    "filterwarnings('ignore')\n",
    "\n",
    "%matplotlib inline"
   ]
  },
  {
   "cell_type": "code",
   "execution_count": 8,
   "metadata": {},
   "outputs": [
    {
     "name": "stdout",
     "output_type": "stream",
     "text": [
      "==> data/train.csv <==\n",
      "feature1,age,feature2,feature3,feature4,feature5,feature6,feature7,feature8,feature9,target\n",
      "0.0019632670000000003,42,0,0.079940785,1350,7,0,0,0,0,0\n",
      "0.004538287,86,0,3.0, ,2,0,0,0, ,0\n",
      "0.023044317,61,0,0.41991601700000003,5000,18,0,2,0,1,0\n",
      "0.12124203300000001,48,0,0.526589364,2500,12,0,1,0,1,0\n",
      "0.9999998999999999,49,3,0.256566684,5900,3,3,1,1,2,1\n",
      "0.11378862099999999,68,1,0.005097373,7650,2,0,0,0,1,0\n",
      "0.25476362399999997,39,0,0.360161138,11666,7,0,1,0,1,0\n",
      "0.8725149659999999,47,0,2817.0, ,8,0,1,0,2,0\n",
      "0.33855517,71,0,0.39728506799999996,14364,12,0,2,0,0,0\n",
      "head: 5: No such file or directory\n"
     ]
    }
   ],
   "source": [
    "!head data/train.csv "
   ]
  },
  {
   "cell_type": "code",
   "execution_count": 4,
   "metadata": {},
   "outputs": [],
   "source": [
    "# set paths constants\n",
    "PATH_TRAIN = 'data/train.csv'\n",
    "PATH_TEST = 'data/train.csv'"
   ]
  },
  {
   "cell_type": "markdown",
   "metadata": {},
   "source": [
    "### Get familiar with data\n",
    "- load data\n",
    "- calculate some stats\n",
    "- check for nulls/duplicates\n",
    "- check target distribution"
   ]
  },
  {
   "cell_type": "code",
   "execution_count": 5,
   "metadata": {},
   "outputs": [],
   "source": [
    "# load data\n",
    "df_train = pd.read_csv(PATH_TRAIN)"
   ]
  },
  {
   "cell_type": "code",
   "execution_count": 44,
   "metadata": {},
   "outputs": [
    {
     "data": {
      "text/html": [
       "<div>\n",
       "<style scoped>\n",
       "    .dataframe tbody tr th:only-of-type {\n",
       "        vertical-align: middle;\n",
       "    }\n",
       "\n",
       "    .dataframe tbody tr th {\n",
       "        vertical-align: top;\n",
       "    }\n",
       "\n",
       "    .dataframe thead th {\n",
       "        text-align: right;\n",
       "    }\n",
       "</style>\n",
       "<table border=\"1\" class=\"dataframe\">\n",
       "  <thead>\n",
       "    <tr style=\"text-align: right;\">\n",
       "      <th></th>\n",
       "      <th>feature1</th>\n",
       "      <th>age</th>\n",
       "      <th>feature2</th>\n",
       "      <th>feature3</th>\n",
       "      <th>feature4</th>\n",
       "      <th>feature5</th>\n",
       "      <th>feature6</th>\n",
       "      <th>feature7</th>\n",
       "      <th>feature8</th>\n",
       "      <th>feature9</th>\n",
       "      <th>target</th>\n",
       "    </tr>\n",
       "  </thead>\n",
       "  <tbody>\n",
       "    <tr>\n",
       "      <td>0</td>\n",
       "      <td>0.001963</td>\n",
       "      <td>42</td>\n",
       "      <td>0</td>\n",
       "      <td>0.079941</td>\n",
       "      <td>1350</td>\n",
       "      <td>7</td>\n",
       "      <td>0</td>\n",
       "      <td>0</td>\n",
       "      <td>0</td>\n",
       "      <td>0</td>\n",
       "      <td>0</td>\n",
       "    </tr>\n",
       "    <tr>\n",
       "      <td>1</td>\n",
       "      <td>0.004538</td>\n",
       "      <td>86</td>\n",
       "      <td>0</td>\n",
       "      <td>3.000000</td>\n",
       "      <td></td>\n",
       "      <td>2</td>\n",
       "      <td>0</td>\n",
       "      <td>0</td>\n",
       "      <td>0</td>\n",
       "      <td></td>\n",
       "      <td>0</td>\n",
       "    </tr>\n",
       "    <tr>\n",
       "      <td>2</td>\n",
       "      <td>0.023044</td>\n",
       "      <td>61</td>\n",
       "      <td>0</td>\n",
       "      <td>0.419916</td>\n",
       "      <td>5000</td>\n",
       "      <td>18</td>\n",
       "      <td>0</td>\n",
       "      <td>2</td>\n",
       "      <td>0</td>\n",
       "      <td>1</td>\n",
       "      <td>0</td>\n",
       "    </tr>\n",
       "    <tr>\n",
       "      <td>3</td>\n",
       "      <td>0.121242</td>\n",
       "      <td>48</td>\n",
       "      <td>0</td>\n",
       "      <td>0.526589</td>\n",
       "      <td>2500</td>\n",
       "      <td>12</td>\n",
       "      <td>0</td>\n",
       "      <td>1</td>\n",
       "      <td>0</td>\n",
       "      <td>1</td>\n",
       "      <td>0</td>\n",
       "    </tr>\n",
       "    <tr>\n",
       "      <td>4</td>\n",
       "      <td>1.000000</td>\n",
       "      <td>49</td>\n",
       "      <td>3</td>\n",
       "      <td>0.256567</td>\n",
       "      <td>5900</td>\n",
       "      <td>3</td>\n",
       "      <td>3</td>\n",
       "      <td>1</td>\n",
       "      <td>1</td>\n",
       "      <td>2</td>\n",
       "      <td>1</td>\n",
       "    </tr>\n",
       "  </tbody>\n",
       "</table>\n",
       "</div>"
      ],
      "text/plain": [
       "   feature1  age  feature2  feature3 feature4  feature5  feature6  feature7  \\\n",
       "0  0.001963   42         0  0.079941     1350         7         0         0   \n",
       "1  0.004538   86         0  3.000000                  2         0         0   \n",
       "2  0.023044   61         0  0.419916     5000        18         0         2   \n",
       "3  0.121242   48         0  0.526589     2500        12         0         1   \n",
       "4  1.000000   49         3  0.256567     5900         3         3         1   \n",
       "\n",
       "   feature8 feature9  target  \n",
       "0         0        0       0  \n",
       "1         0                0  \n",
       "2         0        1       0  \n",
       "3         0        1       0  \n",
       "4         1        2       1  "
      ]
     },
     "execution_count": 44,
     "metadata": {},
     "output_type": "execute_result"
    }
   ],
   "source": [
    "# check first 5 rows\n",
    "df_train.head()"
   ]
  },
  {
   "cell_type": "code",
   "execution_count": 53,
   "metadata": {},
   "outputs": [
    {
     "name": "stdout",
     "output_type": "stream",
     "text": [
      "<class 'pandas.core.frame.DataFrame'>\n",
      "RangeIndex: 73276 entries, 0 to 73275\n",
      "Data columns (total 11 columns):\n",
      "feature1    73276 non-null float64\n",
      "age         73276 non-null int64\n",
      "feature2    73276 non-null int64\n",
      "feature3    73276 non-null float64\n",
      "feature4    73276 non-null object\n",
      "feature5    73276 non-null int64\n",
      "feature6    73276 non-null int64\n",
      "feature7    73276 non-null int64\n",
      "feature8    73276 non-null int64\n",
      "feature9    73276 non-null object\n",
      "target      73276 non-null int64\n",
      "dtypes: float64(2), int64(7), object(2)\n",
      "memory usage: 6.1+ MB\n"
     ]
    }
   ],
   "source": [
    "# check dtypes and null counts if exists\n",
    "df_train.info(memory_usage = True)"
   ]
  },
  {
   "cell_type": "code",
   "execution_count": 51,
   "metadata": {},
   "outputs": [
    {
     "data": {
      "text/plain": [
       "479"
      ]
     },
     "execution_count": 51,
     "metadata": {},
     "output_type": "execute_result"
    }
   ],
   "source": [
    "# check if there is duplicated rows\n",
    "df_train.duplicated().sum()"
   ]
  },
  {
   "cell_type": "code",
   "execution_count": 60,
   "metadata": {},
   "outputs": [
    {
     "data": {
      "text/html": [
       "<div>\n",
       "<style scoped>\n",
       "    .dataframe tbody tr th:only-of-type {\n",
       "        vertical-align: middle;\n",
       "    }\n",
       "\n",
       "    .dataframe tbody tr th {\n",
       "        vertical-align: top;\n",
       "    }\n",
       "\n",
       "    .dataframe thead th {\n",
       "        text-align: right;\n",
       "    }\n",
       "</style>\n",
       "<table border=\"1\" class=\"dataframe\">\n",
       "  <thead>\n",
       "    <tr style=\"text-align: right;\">\n",
       "      <th></th>\n",
       "      <th>feature1</th>\n",
       "      <th>age</th>\n",
       "      <th>feature2</th>\n",
       "      <th>feature3</th>\n",
       "      <th>feature4</th>\n",
       "      <th>feature5</th>\n",
       "      <th>feature6</th>\n",
       "      <th>feature7</th>\n",
       "      <th>feature8</th>\n",
       "      <th>feature9</th>\n",
       "      <th>target</th>\n",
       "    </tr>\n",
       "  </thead>\n",
       "  <tbody>\n",
       "    <tr>\n",
       "      <td>count</td>\n",
       "      <td>73276.000000</td>\n",
       "      <td>73276.000000</td>\n",
       "      <td>73276.000000</td>\n",
       "      <td>73276.000000</td>\n",
       "      <td>73276</td>\n",
       "      <td>73276.000000</td>\n",
       "      <td>73276.000000</td>\n",
       "      <td>73276.000000</td>\n",
       "      <td>73276.000000</td>\n",
       "      <td>73276</td>\n",
       "      <td>73276.000000</td>\n",
       "    </tr>\n",
       "    <tr>\n",
       "      <td>unique</td>\n",
       "      <td>NaN</td>\n",
       "      <td>NaN</td>\n",
       "      <td>NaN</td>\n",
       "      <td>NaN</td>\n",
       "      <td>9729</td>\n",
       "      <td>NaN</td>\n",
       "      <td>NaN</td>\n",
       "      <td>NaN</td>\n",
       "      <td>NaN</td>\n",
       "      <td>6</td>\n",
       "      <td>NaN</td>\n",
       "    </tr>\n",
       "    <tr>\n",
       "      <td>top</td>\n",
       "      <td>NaN</td>\n",
       "      <td>NaN</td>\n",
       "      <td>NaN</td>\n",
       "      <td>NaN</td>\n",
       "      <td></td>\n",
       "      <td>NaN</td>\n",
       "      <td>NaN</td>\n",
       "      <td>NaN</td>\n",
       "      <td>NaN</td>\n",
       "      <td>0</td>\n",
       "      <td>NaN</td>\n",
       "    </tr>\n",
       "    <tr>\n",
       "      <td>freq</td>\n",
       "      <td>NaN</td>\n",
       "      <td>NaN</td>\n",
       "      <td>NaN</td>\n",
       "      <td>NaN</td>\n",
       "      <td>14462</td>\n",
       "      <td>NaN</td>\n",
       "      <td>NaN</td>\n",
       "      <td>NaN</td>\n",
       "      <td>NaN</td>\n",
       "      <td>42390</td>\n",
       "      <td>NaN</td>\n",
       "    </tr>\n",
       "    <tr>\n",
       "      <td>mean</td>\n",
       "      <td>0.319472</td>\n",
       "      <td>52.465910</td>\n",
       "      <td>0.246384</td>\n",
       "      <td>332.632474</td>\n",
       "      <td>NaN</td>\n",
       "      <td>8.459891</td>\n",
       "      <td>0.087109</td>\n",
       "      <td>0.992808</td>\n",
       "      <td>0.062381</td>\n",
       "      <td>NaN</td>\n",
       "      <td>0.066789</td>\n",
       "    </tr>\n",
       "    <tr>\n",
       "      <td>std</td>\n",
       "      <td>0.349851</td>\n",
       "      <td>14.423889</td>\n",
       "      <td>0.664956</td>\n",
       "      <td>1070.591318</td>\n",
       "      <td>NaN</td>\n",
       "      <td>4.866809</td>\n",
       "      <td>0.405338</td>\n",
       "      <td>0.985498</td>\n",
       "      <td>0.288855</td>\n",
       "      <td>NaN</td>\n",
       "      <td>0.249657</td>\n",
       "    </tr>\n",
       "    <tr>\n",
       "      <td>min</td>\n",
       "      <td>0.000000</td>\n",
       "      <td>29.000000</td>\n",
       "      <td>0.000000</td>\n",
       "      <td>0.004329</td>\n",
       "      <td>NaN</td>\n",
       "      <td>2.000000</td>\n",
       "      <td>0.000000</td>\n",
       "      <td>0.000000</td>\n",
       "      <td>0.000000</td>\n",
       "      <td>NaN</td>\n",
       "      <td>0.000000</td>\n",
       "    </tr>\n",
       "    <tr>\n",
       "      <td>25%</td>\n",
       "      <td>0.029748</td>\n",
       "      <td>41.000000</td>\n",
       "      <td>0.000000</td>\n",
       "      <td>0.174224</td>\n",
       "      <td>NaN</td>\n",
       "      <td>5.000000</td>\n",
       "      <td>0.000000</td>\n",
       "      <td>0.000000</td>\n",
       "      <td>0.000000</td>\n",
       "      <td>NaN</td>\n",
       "      <td>0.000000</td>\n",
       "    </tr>\n",
       "    <tr>\n",
       "      <td>50%</td>\n",
       "      <td>0.153913</td>\n",
       "      <td>52.000000</td>\n",
       "      <td>0.000000</td>\n",
       "      <td>0.364076</td>\n",
       "      <td>NaN</td>\n",
       "      <td>8.000000</td>\n",
       "      <td>0.000000</td>\n",
       "      <td>1.000000</td>\n",
       "      <td>0.000000</td>\n",
       "      <td>NaN</td>\n",
       "      <td>0.000000</td>\n",
       "    </tr>\n",
       "    <tr>\n",
       "      <td>75%</td>\n",
       "      <td>0.559585</td>\n",
       "      <td>63.000000</td>\n",
       "      <td>0.000000</td>\n",
       "      <td>0.857081</td>\n",
       "      <td>NaN</td>\n",
       "      <td>11.000000</td>\n",
       "      <td>0.000000</td>\n",
       "      <td>2.000000</td>\n",
       "      <td>0.000000</td>\n",
       "      <td>NaN</td>\n",
       "      <td>0.000000</td>\n",
       "    </tr>\n",
       "    <tr>\n",
       "      <td>max</td>\n",
       "      <td>1.000000</td>\n",
       "      <td>87.000000</td>\n",
       "      <td>4.000000</td>\n",
       "      <td>43960.500000</td>\n",
       "      <td>NaN</td>\n",
       "      <td>24.000000</td>\n",
       "      <td>3.000000</td>\n",
       "      <td>4.000000</td>\n",
       "      <td>2.000000</td>\n",
       "      <td>NaN</td>\n",
       "      <td>1.000000</td>\n",
       "    </tr>\n",
       "  </tbody>\n",
       "</table>\n",
       "</div>"
      ],
      "text/plain": [
       "            feature1           age      feature2      feature3 feature4  \\\n",
       "count   73276.000000  73276.000000  73276.000000  73276.000000    73276   \n",
       "unique           NaN           NaN           NaN           NaN     9729   \n",
       "top              NaN           NaN           NaN           NaN            \n",
       "freq             NaN           NaN           NaN           NaN    14462   \n",
       "mean        0.319472     52.465910      0.246384    332.632474      NaN   \n",
       "std         0.349851     14.423889      0.664956   1070.591318      NaN   \n",
       "min         0.000000     29.000000      0.000000      0.004329      NaN   \n",
       "25%         0.029748     41.000000      0.000000      0.174224      NaN   \n",
       "50%         0.153913     52.000000      0.000000      0.364076      NaN   \n",
       "75%         0.559585     63.000000      0.000000      0.857081      NaN   \n",
       "max         1.000000     87.000000      4.000000  43960.500000      NaN   \n",
       "\n",
       "            feature5      feature6      feature7      feature8 feature9  \\\n",
       "count   73276.000000  73276.000000  73276.000000  73276.000000    73276   \n",
       "unique           NaN           NaN           NaN           NaN        6   \n",
       "top              NaN           NaN           NaN           NaN        0   \n",
       "freq             NaN           NaN           NaN           NaN    42390   \n",
       "mean        8.459891      0.087109      0.992808      0.062381      NaN   \n",
       "std         4.866809      0.405338      0.985498      0.288855      NaN   \n",
       "min         2.000000      0.000000      0.000000      0.000000      NaN   \n",
       "25%         5.000000      0.000000      0.000000      0.000000      NaN   \n",
       "50%         8.000000      0.000000      1.000000      0.000000      NaN   \n",
       "75%        11.000000      0.000000      2.000000      0.000000      NaN   \n",
       "max        24.000000      3.000000      4.000000      2.000000      NaN   \n",
       "\n",
       "              target  \n",
       "count   73276.000000  \n",
       "unique           NaN  \n",
       "top              NaN  \n",
       "freq             NaN  \n",
       "mean        0.066789  \n",
       "std         0.249657  \n",
       "min         0.000000  \n",
       "25%         0.000000  \n",
       "50%         0.000000  \n",
       "75%         0.000000  \n",
       "max         1.000000  "
      ]
     },
     "execution_count": 60,
     "metadata": {},
     "output_type": "execute_result"
    }
   ],
   "source": [
    "# show some statistics\n",
    "df_train.describe(include = 'all')"
   ]
  },
  {
   "cell_type": "code",
   "execution_count": 59,
   "metadata": {},
   "outputs": [
    {
     "data": {
      "text/plain": [
       "feature1    60592\n",
       "age            59\n",
       "feature2        5\n",
       "feature3    57159\n",
       "feature4     9729\n",
       "feature5       23\n",
       "feature6        4\n",
       "feature7        5\n",
       "feature8        3\n",
       "feature9        6\n",
       "target          2\n",
       "dtype: int64"
      ]
     },
     "execution_count": 59,
     "metadata": {},
     "output_type": "execute_result"
    }
   ],
   "source": [
    "# try to highlight categorical features based on number of unique occurencies in each feature \n",
    "df_train.nunique(axis = 0)"
   ]
  },
  {
   "cell_type": "code",
   "execution_count": 56,
   "metadata": {},
   "outputs": [
    {
     "data": {
      "text/plain": [
       "0    0.933211\n",
       "1    0.066789\n",
       "Name: target, dtype: float64"
      ]
     },
     "execution_count": 56,
     "metadata": {},
     "output_type": "execute_result"
    }
   ],
   "source": [
    "# check for target distribution\n",
    "df_train.target.value_counts(normalize = True)"
   ]
  },
  {
   "cell_type": "markdown",
   "metadata": {},
   "source": [
    "### Primary insights\n",
    "- so there is 73276 object, not 9 but 10 features (9 anonimized and **age feature**) and **binary target**.\n",
    "- there are **479 duplicated rows** \n",
    "- primary .info() **doesn't found any null values**, so I **need to dive deeper** to find if there is some other occurencies of null values\n",
    "- there is some **issues with types of features**, which must be recasted to proper type.\n",
    "- features have **different scales**, so in case of usage of classifiers based on linear (e.g. SVM(linear kernel)/LG) or distance (e.g. KNN) methods - features must be scaled to the same distribution\n",
    "- based on target distribution - this is **imbalanced-classification** problem so additional methods of over/under-sampling technique like SMOTE may be applied in case of classifier's improvement\n",
    "- I found out that there is **6 categorical features** (some of them may be ranked features) and 4 numerical feature "
   ]
  },
  {
   "cell_type": "markdown",
   "metadata": {},
   "source": [
    "### Exploratory Data Analysis"
   ]
  },
  {
   "cell_type": "code",
   "execution_count": 61,
   "metadata": {},
   "outputs": [],
   "source": [
    "y = 'target'\n",
    "\n",
    "cat_features = [\n",
    "    'feature2',\n",
    "    'feature5',\n",
    "    'feature6',\n",
    "    'feature7',\n",
    "    'feature8',\n",
    "    'feature9'\n",
    "]"
   ]
  },
  {
   "cell_type": "code",
   "execution_count": 66,
   "metadata": {},
   "outputs": [
    {
     "data": {
      "text/plain": [
       "(array([31492.,  8446.,  5387.,  4211.,  3550.,  2976.,  2565.,  2337.,\n",
       "         2468.,  9844.]),\n",
       " array([0. , 0.1, 0.2, 0.3, 0.4, 0.5, 0.6, 0.7, 0.8, 0.9, 1. ]),\n",
       " <a list of 10 Patch objects>)"
      ]
     },
     "execution_count": 66,
     "metadata": {},
     "output_type": "execute_result"
    },
    {
     "data": {
      "image/png": "[encoded data removed]",
      "text/plain": [
       "<Figure size 576x360 with 1 Axes>"
      ]
     },
     "metadata": {
      "needs_background": "light"
     },
     "output_type": "display_data"
    }
   ],
   "source": [
    "fig, ax = plt.subplots(1,1, figsize=(8,5))\n",
    "ax.hist(df_train['feature1'], color = )"
   ]
  },
  {
   "cell_type": "code",
   "execution_count": null,
   "metadata": {},
   "outputs": [],
   "source": []
  }
 ],
 "metadata": {
  "kernelspec": {
   "display_name": "Python 3",
   "language": "python",
   "name": "python3"
  },
  "language_info": {
   "codemirror_mode": {
    "name": "ipython",
    "version": 3
   },
   "file_extension": ".py",
   "mimetype": "text/x-python",
   "name": "python",
   "nbconvert_exporter": "python",
   "pygments_lexer": "ipython3",
   "version": "3.7.4"
  }
 },
 "nbformat": 4,
 "nbformat_minor": 4
}
